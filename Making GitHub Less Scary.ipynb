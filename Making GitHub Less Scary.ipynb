{
 "cells": [
  {
   "cell_type": "markdown",
   "metadata": {
    "slideshow": {
     "slide_type": "slide"
    }
   },
   "source": [
    "# 👻Making GitHub Less Scary\n",
    "Women in Data Science - ATX -- October, 2017"
   ]
  },
  {
   "cell_type": "code",
   "execution_count": null,
   "metadata": {
    "collapsed": true,
    "slideshow": {
     "slide_type": "skip"
    }
   },
   "outputs": [],
   "source": [
    "%%bash\n",
    "jupyter nbconvert \"Making GitHub Less Scary.ipynb\" --to slides --post serve"
   ]
  },
  {
   "cell_type": "markdown",
   "metadata": {
    "slideshow": {
     "slide_type": "skip"
    }
   },
   "source": [
    "## Beforehand Setup\n",
    "<ul>\n",
    "<li>[Install git](https://git-scm.com/downloads)</li>\n",
    "<li>Verify that also installed `git gui` and `gitk`</li>\n",
    "<ul style=\"margin-top: 0\">\n",
    "<li>Open a terminal command prompt and try each command. If a window pops up, you're ready.</li>\n",
    "<li>If not, get in touch via the Women in Data Science (ATX) Slack or Meetup.</li>\n",
    "</ul>\n",
    "<li>Create a [GitHub user account](https://github.com/)</li>\n",
    "<ul style=\"margin-top: 0\">\n",
    "<li>Some use the same account for work and personal, or you might prefer a separate account.</li>\n",
    "</ul>\n",
    "<li>Install [p4merge](https://www.perforce.com/products/helix-apps/merge-diff-tool-p4merge)</li>\n",
    "<ul style=\"margin-top: 0\">\n",
    "<li>If you are already set up with a visual merge/diff tool, feel free to use that instead. But the configuration below is specific to p4merge.</li>\n",
    "</ul>\n",
    "</ul>\n",
    "\n",
    "<hr>"
   ]
  },
  {
   "cell_type": "markdown",
   "metadata": {
    "slideshow": {
     "slide_type": "slide"
    }
   },
   "source": [
    "## Makes Us Want to Set 🔥 to It All\n",
    "* I have to merge?\n",
    "* \"Detached HEAD\"??\n",
    "* My push is rejected???"
   ]
  },
  {
   "cell_type": "markdown",
   "metadata": {
    "slideshow": {
     "slide_type": "slide"
    }
   },
   "source": [
    "## Fork and Clone\n",
    "* GitHub website to fork\n",
    "* Command line to clone\n",
    "\n",
    "TODO: drawing from card 1"
   ]
  },
  {
   "cell_type": "code",
   "execution_count": null,
   "metadata": {
    "collapsed": true,
    "slideshow": {
     "slide_type": "subslide"
    }
   },
   "outputs": [],
   "source": [
    "%%bash\n",
    "git remote -v"
   ]
  },
  {
   "cell_type": "code",
   "execution_count": null,
   "metadata": {
    "collapsed": true,
    "slideshow": {
     "slide_type": "fragment"
    }
   },
   "outputs": [],
   "source": [
    "%%bash\n",
    "git remote add upstream https://..."
   ]
  },
  {
   "cell_type": "markdown",
   "metadata": {
    "slideshow": {
     "slide_type": "fragment"
    }
   },
   "source": [
    "### Staying in sync\n",
    "`git pull upstream master`\n",
    "\n",
    "`git push origin master`"
   ]
  },
  {
   "cell_type": "markdown",
   "metadata": {
    "slideshow": {
     "slide_type": "slide"
    }
   },
   "source": [
    "## Configure Using `git config`\n",
    "* Full name\n",
    "* Email\n",
    "* Merge tool\n",
    "* Diff tool"
   ]
  },
  {
   "cell_type": "code",
   "execution_count": null,
   "metadata": {
    "collapsed": true,
    "slideshow": {
     "slide_type": "fragment"
    }
   },
   "outputs": [],
   "source": [
    "%%bash\n",
    "git config --global user.name \"Your Name\"\n",
    "git config --global user.email you@whatever.com"
   ]
  },
  {
   "cell_type": "markdown",
   "metadata": {
    "slideshow": {
     "slide_type": "notes"
    }
   },
   "source": [
    "TODO: mergetool, difftool https://git-scm.com/book/en/v2/Customizing-Git-Git-Configuration"
   ]
  }
 ],
 "metadata": {
  "celltoolbar": "Slideshow",
  "kernelspec": {
   "display_name": "Python 3",
   "language": "python",
   "name": "python3"
  },
  "language_info": {
   "codemirror_mode": {
    "name": "ipython",
    "version": 3
   },
   "file_extension": ".py",
   "mimetype": "text/x-python",
   "name": "python",
   "nbconvert_exporter": "python",
   "pygments_lexer": "ipython3",
   "version": "3.6.2"
  }
 },
 "nbformat": 4,
 "nbformat_minor": 2
}

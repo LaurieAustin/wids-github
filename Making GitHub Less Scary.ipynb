{
 "cells": [
  {
   "cell_type": "markdown",
   "metadata": {
    "slideshow": {
     "slide_type": "slide"
    }
   },
   "source": [
    "# 👻Making GitHub Less Scary\n",
    "Women in Data Science &ndash; ATX &mdash; October, 2017"
   ]
  },
  {
   "cell_type": "code",
   "execution_count": null,
   "metadata": {
    "collapsed": true,
    "slideshow": {
     "slide_type": "skip"
    }
   },
   "outputs": [],
   "source": [
    "%%bash\n",
    "jupyter nbconvert \"Making GitHub Less Scary.ipynb\" --to slides --post serve"
   ]
  },
  {
   "cell_type": "markdown",
   "metadata": {
    "slideshow": {
     "slide_type": "skip"
    }
   },
   "source": [
    "## Beforehand Setup\n",
    "<ul>\n",
    "<li>[Install git](https://git-scm.com/downloads)</li>\n",
    "<li>Verify that also installed `git gui` and `gitk`</li>\n",
    "<ul style=\"margin-top: 0\">\n",
    "<li>Open a terminal command prompt and try each command. If a window pops up, you're ready.</li>\n",
    "<li>If not, get in touch via the Women in Data Science (ATX) Slack or Meetup.</li>\n",
    "</ul>\n",
    "<li>Create a [GitHub user account](https://github.com/)</li>\n",
    "<ul style=\"margin-top: 0\">\n",
    "<li>Some use the same account for work and personal, or you might prefer a separate account.</li>\n",
    "</ul>\n",
    "</ul>\n",
    "\n",
    "<hr>"
   ]
  },
  {
   "cell_type": "markdown",
   "metadata": {
    "slideshow": {
     "slide_type": "slide"
    }
   },
   "source": [
    "## Why GitHub\n",
    "* Might have to for work\n",
    "* Keep track of personal projects\n",
    "* Get involved, make a difference\n",
    "* Fix something that bugs you"
   ]
  },
  {
   "cell_type": "markdown",
   "metadata": {
    "slideshow": {
     "slide_type": "slide"
    }
   },
   "source": [
    "TODO: screenshot of Open Austin projects"
   ]
  },
  {
   "cell_type": "markdown",
   "metadata": {
    "slideshow": {
     "slide_type": "slide"
    }
   },
   "source": [
    "TODO: screenshot showing my Microsoft docs PR\n",
    "\n",
    "note that docs are a _great_ way to help open source projects"
   ]
  },
  {
   "cell_type": "markdown",
   "metadata": {
    "slideshow": {
     "slide_type": "slide"
    }
   },
   "source": [
    "TODO: up-for-grabs.net"
   ]
  },
  {
   "cell_type": "markdown",
   "metadata": {
    "slideshow": {
     "slide_type": "slide"
    }
   },
   "source": [
    "## Makes Us Want to Set 🔥 to It All\n",
    "* I have to merge?\n",
    "* \"Detached HEAD\"??\n",
    "* My push is rejected???"
   ]
  },
  {
   "cell_type": "markdown",
   "metadata": {
    "slideshow": {
     "slide_type": "slide"
    }
   },
   "source": [
    "## Fork 🍴 and Clone 👯\n",
    "* GitHub website to fork\n",
    "* Command line to clone\n",
    "\n",
    "TODO: drawing from card 1, github ui, clone command"
   ]
  },
  {
   "cell_type": "markdown",
   "metadata": {
    "slideshow": {
     "slide_type": "slide"
    }
   },
   "source": [
    "### Remote repos\n",
    "\n",
    "TODO: drawing with remote labeled"
   ]
  },
  {
   "cell_type": "code",
   "execution_count": 1,
   "metadata": {
    "slideshow": {
     "slide_type": "fragment"
    }
   },
   "outputs": [
    {
     "name": "stdout",
     "output_type": "stream",
     "text": [
      "origin\thttps://github.com/scichelli/wids-github.git (fetch)\n",
      "origin\thttps://github.com/scichelli/wids-github.git (push)\n"
     ]
    }
   ],
   "source": [
    "%%bash\n",
    "git remote -v"
   ]
  },
  {
   "cell_type": "code",
   "execution_count": null,
   "metadata": {
    "collapsed": true,
    "slideshow": {
     "slide_type": "fragment"
    }
   },
   "outputs": [],
   "source": [
    "%%bash\n",
    "git remote add upstream https://..."
   ]
  },
  {
   "cell_type": "markdown",
   "metadata": {
    "slideshow": {
     "slide_type": "slide"
    }
   },
   "source": [
    "### Staying in sync\n",
    "`git pull upstream master`\n",
    "\n",
    "`git push origin master`\n",
    "\n",
    "TODO: repeat drawing"
   ]
  },
  {
   "cell_type": "markdown",
   "metadata": {
    "slideshow": {
     "slide_type": "slide"
    }
   },
   "source": [
    "## Configure Using `git config`\n",
    "* Full name\n",
    "* Email"
   ]
  },
  {
   "cell_type": "markdown",
   "metadata": {
    "slideshow": {
     "slide_type": "notes"
    }
   },
   "source": [
    "Change the name and email values below before running the commands."
   ]
  },
  {
   "cell_type": "code",
   "execution_count": null,
   "metadata": {
    "collapsed": true,
    "slideshow": {
     "slide_type": "fragment"
    }
   },
   "outputs": [],
   "source": [
    "%%bash\n",
    "git config --global user.name \"Your Name\"\n",
    "git config --global user.email you@whatever.com"
   ]
  },
  {
   "cell_type": "markdown",
   "metadata": {
    "slideshow": {
     "slide_type": "slide"
    }
   },
   "source": [
    "## Resolving Conflicts 🤝\n",
    "* Commit a change in GitHub, directly into the remote\n",
    "* Commit a change locally\n",
    "* Merge and resolve the conflict"
   ]
  },
  {
   "cell_type": "markdown",
   "metadata": {
    "slideshow": {
     "slide_type": "slide"
    }
   },
   "source": [
    "TODO Screenshot of github UI, making a commit\n",
    "\n",
    "Make files for first, second, third, inside folder docs"
   ]
  },
  {
   "cell_type": "markdown",
   "metadata": {
    "slideshow": {
     "slide_type": "slide"
    }
   },
   "source": [
    "### Committing a Change"
   ]
  },
  {
   "cell_type": "markdown",
   "metadata": {
    "slideshow": {
     "slide_type": "notes"
    }
   },
   "source": [
    "Edit a local file. Save it. Launch `git gui` to prepare the commit."
   ]
  },
  {
   "cell_type": "code",
   "execution_count": 2,
   "metadata": {
    "collapsed": true,
    "slideshow": {
     "slide_type": "fragment"
    }
   },
   "outputs": [],
   "source": [
    "%%bash\n",
    "git gui"
   ]
  },
  {
   "cell_type": "markdown",
   "metadata": {
    "slideshow": {
     "slide_type": "notes"
    }
   },
   "source": [
    "TODO Screenshot of git gui.\n",
    "Review the diff.\n",
    "Stage the file.\n",
    "Enter a message. (Note the Amend radio button, for fixing the previous commit.)\n",
    "Commit.\n",
    "Launch `gitk` to look at the history, including your new commit."
   ]
  },
  {
   "cell_type": "code",
   "execution_count": 3,
   "metadata": {
    "collapsed": true,
    "slideshow": {
     "slide_type": "fragment"
    }
   },
   "outputs": [],
   "source": [
    "%%bash\n",
    "gitk"
   ]
  },
  {
   "cell_type": "markdown",
   "metadata": {
    "slideshow": {
     "slide_type": "notes"
    }
   },
   "source": [
    "Look at github to note that your change isn't there (yet)."
   ]
  },
  {
   "cell_type": "markdown",
   "metadata": {
    "slideshow": {
     "slide_type": "slide"
    }
   },
   "source": [
    "### What _is_ a Commit?"
   ]
  },
  {
   "cell_type": "markdown",
   "metadata": {
    "slideshow": {
     "slide_type": "fragment"
    }
   },
   "source": [
    "Snapshot of:\n",
    "\n",
    "* The state of the files in the repository\n",
    "* Who made the commit\n",
    "* And when\n",
    "* With a comment\n",
    "* And a pointer to prior \"parent\" commit(s)"
   ]
  },
  {
   "cell_type": "markdown",
   "metadata": {
    "slideshow": {
     "slide_type": "fragment"
    }
   },
   "source": [
    "Turned into a unique ID:\n",
    "\n",
    "* SHA-1 Hash"
   ]
  },
  {
   "cell_type": "markdown",
   "metadata": {
    "slideshow": {
     "slide_type": "notes"
    }
   },
   "source": [
    "About waiting in line in Spain"
   ]
  },
  {
   "cell_type": "markdown",
   "metadata": {
    "slideshow": {
     "slide_type": "slide"
    }
   },
   "source": [
    "<img src=\"images/waiting-in-line.png\" alt=\"Commits point at their parents like a person waiting in line can point at the person they follow.\" width=600>"
   ]
  },
  {
   "cell_type": "markdown",
   "metadata": {
    "slideshow": {
     "slide_type": "slide"
    }
   },
   "source": [
    "### Push, but Error?"
   ]
  },
  {
   "cell_type": "code",
   "execution_count": null,
   "metadata": {
    "collapsed": true,
    "slideshow": {
     "slide_type": "fragment"
    }
   },
   "outputs": [],
   "source": [
    "%%bash\n",
    "git push origin master"
   ]
  },
  {
   "cell_type": "markdown",
   "metadata": {
    "slideshow": {
     "slide_type": "fragment"
    }
   },
   "source": [
    "TODO drawing of upstream, remote, local, with the respective commits in the remote and local"
   ]
  },
  {
   "cell_type": "markdown",
   "metadata": {
    "slideshow": {
     "slide_type": "notes"
    }
   },
   "source": [
    "Take note of the response message; it contains instructions."
   ]
  },
  {
   "cell_type": "markdown",
   "metadata": {
    "slideshow": {
     "slide_type": "slide"
    }
   },
   "source": [
    "### Pull and Merge"
   ]
  },
  {
   "cell_type": "code",
   "execution_count": null,
   "metadata": {
    "collapsed": true,
    "slideshow": {
     "slide_type": "fragment"
    }
   },
   "outputs": [],
   "source": [
    "%%bash\n",
    "git pull origin master"
   ]
  },
  {
   "cell_type": "code",
   "execution_count": null,
   "metadata": {
    "collapsed": true,
    "slideshow": {
     "slide_type": "fragment"
    }
   },
   "outputs": [],
   "source": [
    "%%bash\n",
    "git push"
   ]
  },
  {
   "cell_type": "markdown",
   "metadata": {
    "slideshow": {
     "slide_type": "notes"
    }
   },
   "source": [
    "There are instructions in the response. \n",
    "\n",
    "Set `origin` as the remote, so that `git push` and `git pull` work as shorthand, without specifying the remote and the branch every time.\n",
    "\n",
    "This part has to move later. Creating the clone set up the upstream already."
   ]
  },
  {
   "cell_type": "code",
   "execution_count": null,
   "metadata": {
    "collapsed": true,
    "slideshow": {
     "slide_type": "fragment"
    }
   },
   "outputs": [],
   "source": [
    "%%bash\n",
    "git push --set-upstream origin master"
   ]
  },
  {
   "cell_type": "markdown",
   "metadata": {
    "slideshow": {
     "slide_type": "slide"
    }
   },
   "source": [
    "drawing of the repos again, upstream, origin, local"
   ]
  },
  {
   "cell_type": "markdown",
   "metadata": {
    "slideshow": {
     "slide_type": "notes"
    }
   },
   "source": [
    "Look in GitHub to see your new commit, now added to the remote repo as well as your local one."
   ]
  },
  {
   "cell_type": "markdown",
   "metadata": {
    "slideshow": {
     "slide_type": "slide"
    }
   },
   "source": [
    "## Detached HEAD 🎃"
   ]
  },
  {
   "cell_type": "markdown",
   "metadata": {
    "slideshow": {
     "slide_type": "notes"
    }
   },
   "source": [
    "Check out the previous commit, using the `HEAD^` shorthand.\n",
    "\n",
    "To \"check out\" a commit is to put your files into the state they were in at that snapshot.\n",
    "\n",
    "This will conflict with the currently running notebook. Just show, don't do."
   ]
  },
  {
   "cell_type": "code",
   "execution_count": 1,
   "metadata": {
    "slideshow": {
     "slide_type": "fragment"
    }
   },
   "outputs": [
    {
     "name": "stderr",
     "output_type": "stream",
     "text": [
      "Note: checking out 'HEAD^'.\n",
      "\n",
      "You are in 'detached HEAD' state. You can look around, make experimental\n",
      "changes and commit them, and you can discard any commits you make in this\n",
      "state without impacting any branches by performing another checkout.\n",
      "\n",
      "If you want to create a new branch to retain commits you create, you may\n",
      "do so (now or later) by using -b with the checkout command again. Example:\n",
      "\n",
      "  git checkout -b <new-branch-name>\n",
      "\n",
      "HEAD is now at a9e76e3... image for waiting in line analogy\n"
     ]
    }
   ],
   "source": [
    "%%bash\n",
    "git checkout HEAD^"
   ]
  },
  {
   "cell_type": "markdown",
   "metadata": {
    "slideshow": {
     "slide_type": "notes"
    }
   },
   "source": [
    "Look in the first-edited file and see that you don't have the change from the remote anymore. It's still in the repo's history, but you're looking at a prior point in time."
   ]
  },
  {
   "cell_type": "markdown",
   "metadata": {
    "slideshow": {
     "slide_type": "slide"
    }
   },
   "source": [
    "### `HEAD` is a Label\n",
    "So are branches.\n",
    "\n",
    "<img src=\"images/passing-head.png\" alt=\"You can think of checking out a branch as passing a sign that says HEAD from one person to another\" width=600>"
   ]
  },
  {
   "cell_type": "markdown",
   "metadata": {
    "slideshow": {
     "slide_type": "slide"
    }
   },
   "source": [
    "### HEAD is a Text File\n",
    "\n",
    "screenshot of file directory; show contents of HEAD when detached; show contents when checkout master.\n",
    "\n",
    "Drawing: hand the HEAD sign to someone else"
   ]
  },
  {
   "cell_type": "markdown",
   "metadata": {
    "slideshow": {
     "slide_type": "notes"
    }
   },
   "source": [
    "Return to normal by checking out a named branch, such as `master`."
   ]
  },
  {
   "cell_type": "code",
   "execution_count": 2,
   "metadata": {
    "slideshow": {
     "slide_type": "slide"
    }
   },
   "outputs": [
    {
     "name": "stdout",
     "output_type": "stream",
     "text": [
      "Your branch is up-to-date with 'origin/master'.\n"
     ]
    },
    {
     "name": "stderr",
     "output_type": "stream",
     "text": [
      "Previous HEAD position was a9e76e3... image for waiting in line analogy\n",
      "Switched to branch 'master'\n"
     ]
    }
   ],
   "source": [
    "%%bash\n",
    "git checkout master"
   ]
  },
  {
   "cell_type": "markdown",
   "metadata": {
    "slideshow": {
     "slide_type": "notes"
    }
   },
   "source": [
    "That was conflicting history. Two commits with the same parent, so how do you rearrange them to in relation to each other.\n",
    "\n",
    "Now what if the contents of the files conflict?"
   ]
  },
  {
   "cell_type": "markdown",
   "metadata": {
    "slideshow": {
     "slide_type": "slide"
    }
   },
   "source": [
    "## Resolving Conflicty Conflicts\n",
    "* Commit another change in GitHub\n",
    "* Edit the same file locally and commit\n",
    "* Merge and resolve conflict"
   ]
  },
  {
   "cell_type": "markdown",
   "metadata": {
    "slideshow": {
     "slide_type": "notes"
    }
   },
   "source": [
    "Change a file in GitHub and commit it.\n",
    "\n",
    "Locally, change the same file on the same line and commit it."
   ]
  },
  {
   "cell_type": "code",
   "execution_count": null,
   "metadata": {
    "collapsed": true,
    "slideshow": {
     "slide_type": "slide"
    }
   },
   "outputs": [],
   "source": [
    "%%bash\n",
    "git gui"
   ]
  },
  {
   "cell_type": "markdown",
   "metadata": {
    "slideshow": {
     "slide_type": "notes"
    }
   },
   "source": [
    "Pull to start the merge."
   ]
  },
  {
   "cell_type": "code",
   "execution_count": null,
   "metadata": {
    "collapsed": true,
    "slideshow": {
     "slide_type": "fragment"
    }
   },
   "outputs": [],
   "source": [
    "%%bash\n",
    "git pull"
   ]
  },
  {
   "cell_type": "markdown",
   "metadata": {
    "slideshow": {
     "slide_type": "notes"
    }
   },
   "source": [
    "You can abort the merge if you need to, make some changes, and then pull again."
   ]
  },
  {
   "cell_type": "code",
   "execution_count": null,
   "metadata": {
    "collapsed": true,
    "slideshow": {
     "slide_type": "fragment"
    }
   },
   "outputs": [],
   "source": [
    "%%bash\n",
    "git merge --abort"
   ]
  },
  {
   "cell_type": "markdown",
   "metadata": {
    "slideshow": {
     "slide_type": "notes"
    }
   },
   "source": [
    "Use `git pull` to try again. Edit the file to create the intended final version. Commit that. Continue the merge."
   ]
  },
  {
   "cell_type": "code",
   "execution_count": null,
   "metadata": {
    "collapsed": true,
    "slideshow": {
     "slide_type": "slide"
    }
   },
   "outputs": [],
   "source": [
    "%%bash\n",
    "git pull"
   ]
  },
  {
   "cell_type": "markdown",
   "metadata": {
    "slideshow": {
     "slide_type": "fragment"
    }
   },
   "source": [
    "screenshot of conflicted text"
   ]
  },
  {
   "cell_type": "markdown",
   "metadata": {
    "slideshow": {
     "slide_type": "notes"
    }
   },
   "source": [
    "stage and commit the resolved file using git gui"
   ]
  },
  {
   "cell_type": "code",
   "execution_count": null,
   "metadata": {
    "collapsed": true,
    "slideshow": {
     "slide_type": "fragment"
    }
   },
   "outputs": [],
   "source": [
    "%%bash\n",
    "git gui"
   ]
  },
  {
   "cell_type": "code",
   "execution_count": null,
   "metadata": {
    "collapsed": true,
    "slideshow": {
     "slide_type": "fragment"
    }
   },
   "outputs": [],
   "source": [
    "%%bash\n",
    "git push"
   ]
  },
  {
   "cell_type": "markdown",
   "metadata": {
    "slideshow": {
     "slide_type": "slide"
    }
   },
   "source": [
    "## Merge Tools\n",
    "screenshots of merge"
   ]
  },
  {
   "cell_type": "markdown",
   "metadata": {
    "collapsed": true,
    "slideshow": {
     "slide_type": "slide"
    }
   },
   "source": [
    "## Undo Changes"
   ]
  },
  {
   "cell_type": "markdown",
   "metadata": {
    "slideshow": {
     "slide_type": "fragment"
    }
   },
   "source": [
    "### Local, Not Committed\n",
    "TODO screenshot of revert in git gui"
   ]
  },
  {
   "cell_type": "markdown",
   "metadata": {
    "slideshow": {
     "slide_type": "slide"
    }
   },
   "source": [
    "### Get Back to How It Looks in GitHub"
   ]
  },
  {
   "cell_type": "markdown",
   "metadata": {
    "slideshow": {
     "slide_type": "notes"
    }
   },
   "source": [
    "Locally, change a file and commit it. Then we'll make a branch to remember this spot.\n",
    "\n",
    "TODO drawing of where this commit is, in relation to remote."
   ]
  },
  {
   "cell_type": "code",
   "execution_count": null,
   "metadata": {
    "collapsed": true,
    "slideshow": {
     "slide_type": "fragment"
    }
   },
   "outputs": [],
   "source": [
    "%%bash\n",
    "git branch experiment1"
   ]
  },
  {
   "cell_type": "markdown",
   "metadata": {
    "slideshow": {
     "slide_type": "notes"
    }
   },
   "source": [
    "Screenshot of gitk, with master and experiment1 labels on latest commit, and origin one behind."
   ]
  },
  {
   "cell_type": "code",
   "execution_count": null,
   "metadata": {
    "collapsed": true,
    "slideshow": {
     "slide_type": "fragment"
    }
   },
   "outputs": [],
   "source": [
    "%%bash\n",
    "git fetch origin\n",
    "git reset --hard origin/master"
   ]
  },
  {
   "cell_type": "markdown",
   "metadata": {
    "slideshow": {
     "slide_type": "notes"
    }
   },
   "source": [
    "`fetch` updates your repo with info from the remote named `origin` (but not your working directory). Locally, you have a branch named `master` and you have a picture of `origin/master`. Fetch updates that picture.\n",
    "\n",
    "`reset` moves HEAD back to the named commit, which in this case is the commit that has the label `master` in the remote named `origin`. `--hard` specifies that it should continue despite throwing away changes -- read up on this.\n",
    "\n",
    "Look in the file you edited, and you will see that your change is gone. Look at history with `gitk` to see that local master and remote master point to the same commit.\n",
    "\n",
    "Add a screenshot of gitk now."
   ]
  },
  {
   "cell_type": "markdown",
   "metadata": {
    "slideshow": {
     "slide_type": "slide"
    }
   },
   "source": [
    "### _Un_-throw That Away"
   ]
  },
  {
   "cell_type": "code",
   "execution_count": null,
   "metadata": {
    "collapsed": true,
    "slideshow": {
     "slide_type": "fragment"
    }
   },
   "outputs": [],
   "source": [
    "%%bash\n",
    "git checkout experiment1"
   ]
  },
  {
   "cell_type": "markdown",
   "metadata": {
    "slideshow": {
     "slide_type": "notes"
    }
   },
   "source": [
    "We moved HEAD to the commit we labeled with `experiment1` with the `git branch` command. `experiment1` is called a branch.\n",
    "\n",
    "Note that your change is restored.\n",
    "\n",
    "Merge that branch into `master` to keep that change and add it into the history."
   ]
  },
  {
   "cell_type": "code",
   "execution_count": null,
   "metadata": {
    "collapsed": true,
    "slideshow": {
     "slide_type": "fragment"
    }
   },
   "outputs": [],
   "source": [
    "%%bash\n",
    "git checkout master\n",
    "git merge experiment1"
   ]
  },
  {
   "cell_type": "markdown",
   "metadata": {
    "slideshow": {
     "slide_type": "notes"
    }
   },
   "source": [
    "Push to GitHub if you wish."
   ]
  },
  {
   "cell_type": "code",
   "execution_count": null,
   "metadata": {
    "collapsed": true,
    "slideshow": {
     "slide_type": "fragment"
    }
   },
   "outputs": [],
   "source": [
    "%%bash\n",
    "git push"
   ]
  },
  {
   "cell_type": "markdown",
   "metadata": {
    "slideshow": {
     "slide_type": "slide"
    }
   },
   "source": [
    "### Helpful Guides\n",
    "* [Choose-Your-Own-Adventure-style]()\n",
    "* [Oh Shit, Git]()"
   ]
  },
  {
   "cell_type": "markdown",
   "metadata": {
    "slideshow": {
     "slide_type": "slide"
    }
   },
   "source": [
    "## Branches\n",
    "* Shelve a train of thought (more resilient than `git stash`)\n",
    "* Make commits without affecting your team\n",
    "* Push unfinished work (in a branch) to GitHub as a backup\n",
    "* Pull Requests start with branches"
   ]
  },
  {
   "cell_type": "markdown",
   "metadata": {
    "slideshow": {
     "slide_type": "slide"
    }
   },
   "source": [
    "### Using Branches Effectively\n",
    "* One coherent unit of work (i.e., one feature)\n",
    "* Merge `origin master` into your branch often\n",
    "* Don't let a branch live too long\n",
    "* Bite-sized merges are easier to get right"
   ]
  },
  {
   "cell_type": "markdown",
   "metadata": {
    "slideshow": {
     "slide_type": "fragment"
    }
   },
   "source": [
    "```\n",
    "git checkout master\n",
    "git pull origin master\n",
    "git checkout experiment1\n",
    "git merge master\n",
    "```"
   ]
  },
  {
   "cell_type": "markdown",
   "metadata": {
    "slideshow": {
     "slide_type": "notes"
    }
   },
   "source": [
    "Screenshot of history using a feature branch then merging it back.\n",
    "\n",
    "We'll practice more with branches as we create a pull request."
   ]
  },
  {
   "cell_type": "markdown",
   "metadata": {
    "slideshow": {
     "slide_type": "slide"
    }
   },
   "source": [
    "## Pull Request\n",
    "* I _request_ that you _pull_ my changes into your repo.\n",
    "* The way to contribute to open source\n",
    "* Useful for teams, too\n",
    "* Code reviews and conversations\n",
    "* Starts with a branch"
   ]
  },
  {
   "cell_type": "markdown",
   "metadata": {
    "slideshow": {
     "slide_type": "notes"
    }
   },
   "source": [
    "Screenshot of a PR from work, with inline notes, and one from Microsoft docs"
   ]
  },
  {
   "cell_type": "code",
   "execution_count": null,
   "metadata": {
    "collapsed": true,
    "slideshow": {
     "slide_type": "slide"
    }
   },
   "outputs": [],
   "source": [
    "%%bash\n",
    "git checkout -b experiment2"
   ]
  },
  {
   "cell_type": "markdown",
   "metadata": {
    "slideshow": {
     "slide_type": "notes"
    }
   },
   "source": [
    "`checkout -b` creates a branch and checks it out in one step. Your current branch is now `experiment2`.\n",
    "\n",
    "Edit a file, commit. Push it to GitHub."
   ]
  },
  {
   "cell_type": "code",
   "execution_count": null,
   "metadata": {
    "collapsed": true,
    "slideshow": {
     "slide_type": "fragment"
    }
   },
   "outputs": [],
   "source": [
    "%%bash\n",
    "git push origin experiment2"
   ]
  },
  {
   "cell_type": "markdown",
   "metadata": {
    "slideshow": {
     "slide_type": "notes"
    }
   },
   "source": [
    "Go to GitHub to create the pull request from the branch.\n",
    "\n",
    "Screenshot of the \"recent change\" branch with PR button, and a screenshot of the branches list with the option to create a PR.\n",
    "\n",
    "Create the PR and enter a title and a description.\n",
    "\n",
    "Note that the destination is the repo you forked from (and which branch?).  Go ahead and submit it.\n",
    "\n",
    "View my repo in GitHub and see your PR (and others) waiting for review.\n",
    "\n",
    "Nice example: https://github.com/openstates/openstates/pull/1816"
   ]
  },
  {
   "cell_type": "markdown",
   "metadata": {
    "slideshow": {
     "slide_type": "notes"
    }
   },
   "source": [
    "Screenshot of conflicted PR. Screenshot of ready-to-merge PR.\n",
    "\n",
    "Screenshot of where to leave an in-line comment on someone's code.\n",
    "\n",
    "Leave a comment on someone else's PR.\n",
    "\n",
    "Now we'll merge one.\n",
    "\n",
    "Look at history on the repo.\n",
    "\n",
    "When a branch has been merged, you can safely delete the branch. (You can also close a PR without merging it, if it turned out to be a bad idea.)\n",
    "\n",
    "A Pull Request is for a branch, not a point in time, so if you keep making commits to that branch, you will be adding to the PR."
   ]
  },
  {
   "cell_type": "markdown",
   "metadata": {
    "slideshow": {
     "slide_type": "slide"
    }
   },
   "source": [
    "## Contributing to Open Source\n",
    "* Docs are a super way to help\n",
    "* Some repositories have `contributing.md`\n",
    "* Open a GitHub issue to start a conversation\n",
    "* [up-for-grabs.net](http://www.up-for-grabs.net/)"
   ]
  },
  {
   "cell_type": "markdown",
   "metadata": {
    "slideshow": {
     "slide_type": "notes"
    }
   },
   "source": [
    "Screenshot of up-for-grabs"
   ]
  },
  {
   "cell_type": "markdown",
   "metadata": {
    "slideshow": {
     "slide_type": "slide"
    }
   },
   "source": [
    "## Next-Level Topics: Rewriting History\n",
    "* `rebase`\n",
    "* `amend`\n",
    "* `cherry-pick`\n",
    "* Fast-forward merge\n",
    "* `squash`\n",
    "* `--force`"
   ]
  },
  {
   "cell_type": "markdown",
   "metadata": {
    "slideshow": {
     "slide_type": "fragment"
    }
   },
   "source": [
    "But do not change shared history!"
   ]
  },
  {
   "cell_type": "markdown",
   "metadata": {
    "slideshow": {
     "slide_type": "slide"
    }
   },
   "source": [
    "## Next-Level Topics: Exploring History\n",
    "* `blame`\n",
    "* `bisect`\n",
    "* `reflog`\n",
    "* View in GitHub"
   ]
  },
  {
   "cell_type": "markdown",
   "metadata": {
    "slideshow": {
     "slide_type": "slide"
    }
   },
   "source": [
    "## Summary\n",
    "* A commit is a snapshot\n",
    "* Merging and resolving conflicts\n",
    "* Branches, master, and HEAD\n",
    "* Reverting changes\n",
    "* Pull requests"
   ]
  }
 ],
 "metadata": {
  "celltoolbar": "Slideshow",
  "kernelspec": {
   "display_name": "Python 3",
   "language": "python",
   "name": "python3"
  },
  "language_info": {
   "codemirror_mode": {
    "name": "ipython",
    "version": 3
   },
   "file_extension": ".py",
   "mimetype": "text/x-python",
   "name": "python",
   "nbconvert_exporter": "python",
   "pygments_lexer": "ipython3",
   "version": "3.6.2"
  }
 },
 "nbformat": 4,
 "nbformat_minor": 2
}
